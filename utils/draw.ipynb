{
 "cells": [
  {
   "cell_type": "code",
   "execution_count": 3,
   "metadata": {},
   "outputs": [
    {
     "name": "stdout",
     "output_type": "stream",
     "text": [
      "C:\\Users\\Ilya\\CountingPeople\n"
     ]
    }
   ],
   "source": [
    "cd .."
   ]
  },
  {
   "cell_type": "code",
   "execution_count": 4,
   "metadata": {},
   "outputs": [],
   "source": [
    "import cv2\n",
    "import numpy as np\n",
    "from utils import position\n",
    "from utils import transform\n",
    "import time"
   ]
  },
  {
   "cell_type": "code",
   "execution_count": 5,
   "metadata": {},
   "outputs": [],
   "source": [
    "def draw(name_of_window, img_copy):\n",
    "    points_of_intresting_place = []\n",
    "    up_line = []\n",
    "    down_line = []\n",
    "    diction = {'w': ['white',(255,255,255)],\n",
    "               'r': ['red',(0,0,255)],\n",
    "               'b': ['blue',(255,0,0)]}\n",
    "    ix = -1\n",
    "    iy = -1\n",
    "    mode = 'w'\n",
    "    def draw_circle(event,x,y,flags,param): \n",
    "        nonlocal points_of_intresting_place,ix,iy,mode,up_line,down_line\n",
    "        if event == cv2.EVENT_LBUTTONDOWN:\n",
    "            ix = x\n",
    "            iy = y\n",
    "            if mode == 'w': # область интереса  \n",
    "                points_of_intresting_place.append((x,y))\n",
    "            elif mode == 'r':\n",
    "                up_line.append((x,y))\n",
    "            elif mode == 'b':\n",
    "                down_line.append((x,y))\n",
    "        elif event == cv2.EVENT_LBUTTONUP:\n",
    "            if mode == 'w':\n",
    "                cv2.rectangle(img_copy,(ix,iy),(x,y),(255,255,255),1)\n",
    "                points_of_intresting_place.append((x,y))\n",
    "            elif mode == 'r':\n",
    "                cv2.line(img_copy,(ix,iy),(x,y),(0,0,255),2)\n",
    "                up_line.append((x,y))\n",
    "            elif mode == 'b':\n",
    "                cv2.line(img_copy,(ix,iy),(x,y),(255,0,0),2)\n",
    "                down_line.append((x,y))\n",
    "    cv2.namedWindow(name_of_window)\n",
    "    while True :\n",
    "        img = np.copy(img_copy)\n",
    "        cv2.setMouseCallback(name_of_window, draw_circle)\n",
    "        cv2.putText(img, diction[mode][0], (28,17), cv2.FONT_HERSHEY_SIMPLEX, 0.65,diction[mode][1], 1, cv2.LINE_AA)\n",
    "        cv2.imshow(name_of_window, img)\n",
    "        k = cv2.waitKey(20) & 0xFF\n",
    "        if k == ord('q'):\n",
    "            break\n",
    "        elif k == ord('m'):\n",
    "            mode = 'r'\n",
    "        elif k == ord('n'):\n",
    "            mode = 'b'\n",
    "        elif k == ord('b'):\n",
    "            mode = 'w'\n",
    "    cv2.destroyAllWindows()\n",
    "    return transform.rect_to_point_for_line(points_of_intresting_place), up_line, down_line"
   ]
  },
  {
   "cell_type": "code",
   "execution_count": 6,
   "metadata": {},
   "outputs": [
    {
     "name": "stdout",
     "output_type": "stream",
     "text": [
      "([(174, 118), (313, 118), (313, 415), (174, 415)], [(184, 225), (275, 233)], [(212, 319), (261, 368)])\n"
     ]
    }
   ],
   "source": [
    "img = np.zeros((512,512,3), np.uint8)\n",
    "draw_img = np.copy(img)\n",
    "all_points = draw('draw_img',draw_img)\n",
    "while True:\n",
    "    cv2.imshow('t', img)\n",
    "    k = cv2.waitKey(20) & 0xff\n",
    "    if k == 27:\n",
    "        break\n",
    "cv2.destroyAllWindows()\n",
    "print(all_points)"
   ]
  },
  {
   "cell_type": "code",
   "execution_count": 7,
   "metadata": {},
   "outputs": [
    {
     "data": {
      "text/plain": [
       "([(174, 118), (313, 118), (313, 415), (174, 415)],\n",
       " [(184, 225), (275, 233)],\n",
       " [(212, 319), (261, 368)])"
      ]
     },
     "execution_count": 7,
     "metadata": {},
     "output_type": "execute_result"
    }
   ],
   "source": [
    "all_points"
   ]
  },
  {
   "cell_type": "code",
   "execution_count": 8,
   "metadata": {},
   "outputs": [],
   "source": [
    "lines = transform.points_to_lines(all_points)"
   ]
  },
  {
   "cell_type": "code",
   "execution_count": 9,
   "metadata": {},
   "outputs": [
    {
     "data": {
      "text/plain": [
       "{'blue_down_line': {'coordinates': [(212, 319), (261, 368)],\n",
       "  'function': <function utils.transform.points_to_lines.<locals>.line.<locals>.pre_line>},\n",
       " 'down_line': {'coordinates': [(313, 415), (174, 415)],\n",
       "  'function': <function utils.transform.points_to_lines.<locals>.line.<locals>.pre_line>},\n",
       " 'left_line': {'coordinates': [(174, 415), (174, 118)],\n",
       "  'function': <function utils.transform.points_to_lines.<locals>.line.<locals>.pre_line>},\n",
       " 'red_up_line': {'coordinates': [(184, 225), (275, 233)],\n",
       "  'function': <function utils.transform.points_to_lines.<locals>.line.<locals>.pre_line>},\n",
       " 'right_line': {'coordinates': [(313, 118), (313, 415)],\n",
       "  'function': <function utils.transform.points_to_lines.<locals>.line.<locals>.pre_line>},\n",
       " 'top_line': {'coordinates': [(174, 118), (313, 118)],\n",
       "  'function': <function utils.transform.points_to_lines.<locals>.line.<locals>.pre_line>}}"
      ]
     },
     "execution_count": 9,
     "metadata": {},
     "output_type": "execute_result"
    }
   ],
   "source": [
    "lines"
   ]
  },
  {
   "cell_type": "code",
   "execution_count": 10,
   "metadata": {},
   "outputs": [
    {
     "name": "stdout",
     "output_type": "stream",
     "text": [
      "True\n",
      "True\n"
     ]
    }
   ],
   "source": [
    "print(position.in_rectangle(lines, lines['red_up_line']['coordinates'][0]))\n",
    "print(position.in_rectangle(lines, lines['blue_down_line']['coordinates'][0]))"
   ]
  },
  {
   "cell_type": "code",
   "execution_count": null,
   "metadata": {},
   "outputs": [],
   "source": []
  },
  {
   "cell_type": "code",
   "execution_count": null,
   "metadata": {},
   "outputs": [],
   "source": []
  }
 ],
 "metadata": {
  "kernelspec": {
   "display_name": "Python 3",
   "language": "python",
   "name": "python3"
  },
  "language_info": {
   "codemirror_mode": {
    "name": "ipython",
    "version": 3
   },
   "file_extension": ".py",
   "mimetype": "text/x-python",
   "name": "python",
   "nbconvert_exporter": "python",
   "pygments_lexer": "ipython3",
   "version": "3.6.4"
  }
 },
 "nbformat": 4,
 "nbformat_minor": 2
}
