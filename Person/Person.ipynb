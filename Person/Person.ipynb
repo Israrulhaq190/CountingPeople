{
 "cells": [
  {
   "cell_type": "code",
   "execution_count": 1,
   "metadata": {},
   "outputs": [],
   "source": [
    "from typing import Tuple, List\n",
    "import numpy as np\n",
    "\n",
    "class Person:\n",
    "    \"\"\" Class of each person of we will be detected  \"\"\"\n",
    "    \n",
    "    color_id_and_cout_of_person = 0 # id box tracker color of person and also it is count of all people on video\n",
    "    \n",
    "    def __init__(self, ids: int, box: List[int]) -> None:\n",
    "        \"\"\" Contructor \"\"\"\n",
    "        Person.color_id_and_cout_of_person += 1\n",
    "        np.random.seed(Person.color_id_and_cout_of_person)\n",
    "        self.ids = ids\n",
    "        self.x = int(box[0])\n",
    "        self.y = int(box[1])\n",
    "        self.w = int(abs(box[0] - box[2]))\n",
    "        self.h = int(abs(box[1] - box[3]))\n",
    "        self.R = np.random.randint(255)\n",
    "        self.G = np.random.randint(255)\n",
    "        self.B = np.random.randint(255)\n",
    "        self.cx = int(self.x + self.w / 2) # Cast to int because pixel can't be a fractional\n",
    "        self.cy = int(self.y + self.h / 2) # Cast to int because pixel can't be a fractional\n",
    "        self.trace = [(self.cx, self.cy)]\n",
    "        \n",
    "    def get_id(self) -> int:\n",
    "        \"\"\" Getter of id person \"\"\"       \n",
    "        return self.ids\n",
    "    \n",
    "    def get_box_coordinates(self) -> Tuple[int, int, int, int]:\n",
    "        \"\"\" Get coordinates of person \"\"\"\n",
    "        return self.x, self.y, self.w, self.h\n",
    "    \n",
    "    def get_centre_box(self) -> Tuple[int, int]:\n",
    "        \"\"\" Get centre of person box \"\"\"\n",
    "        return self.cx, self.cy\n",
    "    \n",
    "    def get_trace(self) -> List[Tuple[int, int]]:\n",
    "        \"\"\" Get trace of person \"\"\"\n",
    "        return self.trace\n",
    "    \n",
    "    def get_x(self) -> int:\n",
    "        \"\"\" Get x coordinate \"\"\"\n",
    "        return self.x\n",
    "    \n",
    "    def get_y(self) -> int:\n",
    "        \"\"\" Get y coordinate \"\"\"\n",
    "        return self.y\n",
    "    \n",
    "    def update_coordinates(self, box: List[int]) -> None:\n",
    "        \"\"\" Update coordinates of person \"\"\"\n",
    "        self.x = int(box[0])\n",
    "        self.y = int(box[1])\n",
    "        self.w = int(abs(box[0] - box[2]))\n",
    "        self.h = int(abs(box[1] - box[3]))\n",
    "        self.cx = int(self.x + self.w / 2) # Cast to int because pixel can't be a fractional\n",
    "        self.cy = int(self.y + self.h / 2) # Cast to int because pixel can't be a fractional\n",
    "        self.trace.append((self.cx, self.cy))"
   ]
  },
  {
   "cell_type": "code",
   "execution_count": 2,
   "metadata": {},
   "outputs": [],
   "source": [
    "p = Person(1, [2, 5, 6, 8])\n",
    "p1 = Person(2, [22, 5, 6, 80])\n",
    "p2 = Person(3, [2, 12, 6, 8])"
   ]
  },
  {
   "cell_type": "code",
   "execution_count": 3,
   "metadata": {},
   "outputs": [
    {
     "name": "stdout",
     "output_type": "stream",
     "text": [
      "<class 'int'>\n",
      "<class 'tuple'>\n",
      "<class 'tuple'>\n",
      "<class 'list'>\n",
      "<class 'int'>\n",
      "<class 'int'>\n"
     ]
    }
   ],
   "source": [
    "print(type(p.get_id()))\n",
    "print(type(p.get_box_coordinates()))\n",
    "print(type(p.get_centre_box()))\n",
    "print(type(p.get_trace()))\n",
    "print(type(p.get_x()))\n",
    "print(type(p.get_y()))"
   ]
  },
  {
   "cell_type": "code",
   "execution_count": 4,
   "metadata": {},
   "outputs": [],
   "source": [
    "p.update_coordinates([1, 4, 6, 7])"
   ]
  },
  {
   "cell_type": "code",
   "execution_count": 5,
   "metadata": {},
   "outputs": [
    {
     "name": "stdout",
     "output_type": "stream",
     "text": [
      "1\n",
      "(1, 4, 5, 3)\n",
      "(3, 5)\n",
      "[(4, 6), (3, 5)]\n",
      "1\n",
      "4\n"
     ]
    }
   ],
   "source": [
    "print(p.get_id())\n",
    "print(p.get_box_coordinates())\n",
    "print(p.get_centre_box())\n",
    "print(p.get_trace())\n",
    "print(p.get_x())\n",
    "print(p.get_y())"
   ]
  },
  {
   "cell_type": "code",
   "execution_count": 9,
   "metadata": {},
   "outputs": [],
   "source": [
    "persons = [p, p1, p2]"
   ]
  },
  {
   "cell_type": "code",
   "execution_count": 10,
   "metadata": {},
   "outputs": [
    {
     "data": {
      "text/plain": [
       "[1, 2, 3]"
      ]
     },
     "execution_count": 10,
     "metadata": {},
     "output_type": "execute_result"
    }
   ],
   "source": [
    "list(map(lambda person: person.get_id(), persons))"
   ]
  },
  {
   "cell_type": "code",
   "execution_count": 11,
   "metadata": {},
   "outputs": [
    {
     "name": "stdout",
     "output_type": "stream",
     "text": [
      "3\n"
     ]
    }
   ],
   "source": [
    "print(Person.color_id_and_cout_of_person)"
   ]
  },
  {
   "cell_type": "code",
   "execution_count": 12,
   "metadata": {},
   "outputs": [],
   "source": [
    "pt = {}"
   ]
  },
  {
   "cell_type": "code",
   "execution_count": 13,
   "metadata": {},
   "outputs": [],
   "source": [
    "pt['f00'] = [1, 2]"
   ]
  },
  {
   "cell_type": "code",
   "execution_count": 14,
   "metadata": {},
   "outputs": [],
   "source": [
    "pt['d00'] = [22, 4849, 564]"
   ]
  },
  {
   "cell_type": "code",
   "execution_count": 15,
   "metadata": {},
   "outputs": [
    {
     "data": {
      "text/plain": [
       "{'d00': [22, 4849, 564], 'f00': [1, 2]}"
      ]
     },
     "execution_count": 15,
     "metadata": {},
     "output_type": "execute_result"
    }
   ],
   "source": [
    "pt"
   ]
  },
  {
   "cell_type": "code",
   "execution_count": 16,
   "metadata": {},
   "outputs": [
    {
     "name": "stdout",
     "output_type": "stream",
     "text": [
      "f00 <class 'str'>\n",
      "d00 <class 'str'>\n"
     ]
    }
   ],
   "source": [
    "for i in pt:\n",
    "    print(i, type(i))"
   ]
  },
  {
   "cell_type": "code",
   "execution_count": null,
   "metadata": {},
   "outputs": [],
   "source": []
  }
 ],
 "metadata": {
  "kernelspec": {
   "display_name": "Python 3",
   "language": "python",
   "name": "python3"
  },
  "language_info": {
   "codemirror_mode": {
    "name": "ipython",
    "version": 3
   },
   "file_extension": ".py",
   "mimetype": "text/x-python",
   "name": "python",
   "nbconvert_exporter": "python",
   "pygments_lexer": "ipython3",
   "version": "3.6.4"
  }
 },
 "nbformat": 4,
 "nbformat_minor": 2
}
